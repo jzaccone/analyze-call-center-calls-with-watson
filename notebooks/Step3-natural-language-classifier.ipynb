{
 "cells": [
  {
   "cell_type": "markdown",
   "metadata": {},
   "source": [
    "\n",
    "# Notebook 3 – Natural Language Classifier (NLC)\n",
    "IBM Watson Natural Language Classifier uses machine learning algorithms to return the top matching predefined classes for short text input. \n",
    "\n",
    "*YOU* Create and train a classifier to connect predefined classes to example texts so that the service can apply those classes to new inputs.\n",
    "\n",
    "https://www.ibm.com/watson/services/natural-language-classifier/ \n",
    "https://www.ibm.com/watson/developercloud/natural-language-classifier/api/v1 \n",
    "\n",
    "\n",
    "## Install dependencies"
   ]
  },
  {
   "cell_type": "code",
   "execution_count": 2,
   "metadata": {},
   "outputs": [
    {
     "name": "stdout",
     "output_type": "stream",
     "text": [
      "Requirement not upgraded as not directly required: watson_developer_cloud in /opt/conda/envs/DSX-Python35/lib/python3.5/site-packages\n",
      "Requirement not upgraded as not directly required: requests<3.0,>=2.0 in /opt/conda/envs/DSX-Python35/lib/python3.5/site-packages (from watson_developer_cloud)\n",
      "Requirement not upgraded as not directly required: websocket-client==0.48.0 in /opt/conda/envs/DSX-Python35/lib/python3.5/site-packages (from watson_developer_cloud)\n",
      "Requirement not upgraded as not directly required: python-dateutil>=2.5.3 in /opt/conda/envs/DSX-Python35/lib/python3.5/site-packages (from watson_developer_cloud)\n",
      "Requirement not upgraded as not directly required: chardet<3.1.0,>=3.0.2 in /opt/conda/envs/DSX-Python35/lib/python3.5/site-packages (from requests<3.0,>=2.0->watson_developer_cloud)\n",
      "Requirement not upgraded as not directly required: idna<2.7,>=2.5 in /opt/conda/envs/DSX-Python35/lib/python3.5/site-packages (from requests<3.0,>=2.0->watson_developer_cloud)\n",
      "Requirement not upgraded as not directly required: urllib3<1.23,>=1.21.1 in /opt/conda/envs/DSX-Python35/lib/python3.5/site-packages (from requests<3.0,>=2.0->watson_developer_cloud)\n",
      "Requirement not upgraded as not directly required: certifi>=2017.4.17 in /opt/conda/envs/DSX-Python35/lib/python3.5/site-packages (from requests<3.0,>=2.0->watson_developer_cloud)\n",
      "Requirement not upgraded as not directly required: six in /opt/conda/envs/DSX-Python35/lib/python3.5/site-packages (from websocket-client==0.48.0->watson_developer_cloud)\n"
     ]
    }
   ],
   "source": [
    "#imports.... Run this each time after restarting the Kernel\n",
    "#!pip install watson_developer_cloud\n",
    "import watson_developer_cloud as watson\n",
    "import json\n",
    "from botocore.client import Config\n",
    "import ibm_boto3\n",
    "import requests"
   ]
  },
  {
   "cell_type": "markdown",
   "metadata": {},
   "source": [
    "##  Cloud Object Storage - Add Credentials & Bucket Name\n",
    "If you've not already set up COS - please see Step 1\n",
    "\n",
    "### Credentials\n",
    "Credentials are also created for you when you create project. From service dashboard page select `Service Credentials` from left navigation menu item, and copy/paste the credentials below:\n",
    "\n",
    "### Bucket name\n",
    "Buckets are created for you when you create project. From service dashboard page select `Buckets` from left navigation menu item, and get your bucket name and copy/paste bucket name below:\n"
   ]
  },
  {
   "cell_type": "code",
   "execution_count": 3,
   "metadata": {},
   "outputs": [],
   "source": [
    "# For Cloud Object Storage - populate your own information here from \"SERVICES\" on this page, or Console Dashboard on ibm.com/cloud\n",
    "\n",
    "# From service dashboard page select Service Credentials from left navigation menu item\n",
    "credentials_os = {\n",
    "  \"apikey\": \"\",\n",
    "  \"cos_hmac_keys\": {\n",
    "    \"access_key_id\": \"\",\n",
    "    \"secret_access_key\": \"\"\n",
    "  },\n",
    "  \"endpoints\": \"https://cos-service.bluemix.net/endpoints\",\n",
    "  \"iam_apikey_description\": \"Auto generated apikey during resource-key operation for Instance - crn:v1:bluemix:public:cloud-object-storage:global:a/a21524842fc807640e69bf89c00009fc:fbac6ff9-ae7c-40a9-b57f-22b224c6f5b5::\",\n",
    "  \"iam_apikey_name\": \"\",\n",
    "  \"iam_role_crn\": \"\",\n",
    "  \"iam_serviceid_crn\": \"\",\n",
    "  \"resource_instance_id\": \"\"\n",
    "}\n",
    "\n",
    "# Buckets are created for you when you create project. From service dashboard page select Buckets from left navigation menu item, \n",
    "credentials_os['BUCKET'] = '<bucket_name>' # copy bucket name from COS"
   ]
  },
  {
   "cell_type": "code",
   "execution_count": 4,
   "metadata": {},
   "outputs": [],
   "source": [
    "# The code was removed by DSX for sharing."
   ]
  },
  {
   "cell_type": "markdown",
   "metadata": {},
   "source": [
    "### ACCESS (pre-trained) Watson Natural Language Classifier (NLC) service for lab\n",
    "### (*) NLC does NOT OFFER LITE PLAN and NLC also takes time to train\n",
    "\n",
    "For this lab - to keep things simple - NLC has been PRE CONFIGURED for you. \n",
    "\n",
    "IBM Watson™ Natural Language Classifier uses machine learning algorithms to return the top matching predefined classes for short text input. You create and train a classifier to connect predefined classes to example texts so that the service can apply those classes to new inputs.\n",
    "\n",
    "In short - YOU can train the NLC with a ground truth - to create your own classification model\n",
    "\n",
    "https://www.ibm.com/watson/developercloud/natural-language-classifier/api/v1/curl.html?curl\n"
   ]
  },
  {
   "cell_type": "code",
   "execution_count": 5,
   "metadata": {},
   "outputs": [],
   "source": [
    "# LAB CREDENTIALS FOR YOU - Credentials will only be available till March 23, 2018; afterward you need to train your own classifier\n",
    "\n",
    "credentials_nlc = {\n",
    "    \"classifier_id\": \"0e6935x475-nlc-1979\",\n",
    "    \"url\": \"https://gateway.watsonplatform.net/natural-language-classifier/api\",\n",
    "    \"apikey\": \"lXfzyKG3StPWHyKQXLy1CC2BA8TiVgMA71DouOo0idPa\",\n",
    "}\n",
    "# Ground truth used - simple tester \"call_center_gt_NLC_V2.csv\"\n",
    "# https://github.com/rustyoldrake/call_center_instrumentation_analytics/blob/master/call_center_gt_NLC_V2.csv"
   ]
  },
  {
   "cell_type": "markdown",
   "metadata": {},
   "source": [
    "### Set up Object Storage Client"
   ]
  },
  {
   "cell_type": "code",
   "execution_count": 6,
   "metadata": {},
   "outputs": [],
   "source": [
    "endpoints = requests.get(credentials_os['endpoints']).json()\n",
    "\n",
    "iam_host = (endpoints['identity-endpoints']['iam-token'])\n",
    "cos_host = (endpoints['service-endpoints']['cross-region']['us']['public']['us-geo'])\n",
    "\n",
    "auth_endpoint = \"https://\" + iam_host + \"/oidc/token\"\n",
    "service_endpoint = \"https://\" + cos_host\n",
    "\n",
    "\n",
    "client = ibm_boto3.client(\n",
    "    's3',\n",
    "    ibm_api_key_id = credentials_os['apikey'],\n",
    "    ibm_service_instance_id = credentials_os['resource_instance_id'],\n",
    "    ibm_auth_endpoint = auth_endpoint,\n",
    "    config = Config(signature_version='oauth'),\n",
    "    endpoint_url = service_endpoint\n",
    "   )\n",
    "\n",
    "\n"
   ]
  },
  {
   "cell_type": "markdown",
   "metadata": {},
   "source": [
    "### NLC\n",
    "\n",
    "- `process_text()` goes throught the text and fetch sentences and concatenate transcript based on chunk size\n",
    "- `classify()` calls natural language classifier endpoint and classify the text fields in transcript"
   ]
  },
  {
   "cell_type": "code",
   "execution_count": 12,
   "metadata": {},
   "outputs": [],
   "source": [
    "#NLC\n",
    "\n",
    "from watson_developer_cloud import NaturalLanguageClassifierV1\n",
    "\n",
    "natural_language_classifier = NaturalLanguageClassifierV1(\n",
    "    iam_apikey = credentials_nlc['apikey'])\n",
    "\n",
    "chunk_size = 25\n",
    "# Used to SPLIT up - \"CHUNK\" the aggregate transcript into smaller pieces\n",
    "\n",
    "def chunk_transcript(transcript, chunk_size):\n",
    "    transcript = transcript.split(' ')\n",
    "    return [ transcript[i:i+chunk_size] for i in range(0, len(transcript), chunk_size) ] # chunking data\n",
    "    \n",
    "\n",
    "def process_text(text):\n",
    "    transcript=''\n",
    "    for sentence in json.loads(text)['results']:\n",
    "        transcript = transcript + sentence['alternatives'][0]['transcript'] # concatenate sentences\n",
    "    transcript = chunk_transcript(transcript, chunk_size) # chunk the transcript\n",
    "    return transcript\n",
    "\n",
    "def classify(file_name):\n",
    "    streaming_body = client.get_object(Bucket = credentials_os['BUCKET'], Key = file_name.split('.')[0]+'_text.json')['Body']\n",
    "    transcript=streaming_body.read().decode(\"utf-8\")\n",
    "    analysis = {}\n",
    "    for chunk in process_text(transcript):\n",
    "        chunk = ' '.join(chunk)\n",
    "        analysis[chunk] = natural_language_classifier.classify(credentials_nlc['classifier_id'], chunk).get_result()\n",
    "    client.put_object(Bucket = credentials_os['BUCKET'], Key = file_name.split('.')[0]+'_nlc', Body= json.dumps(analysis))\n",
    "    return analysis\n",
    "\n",
    "\n",
    "def classify_transcript(file_name):\n",
    "    status = natural_language_classifier.get_classifier(credentials_nlc['classifier_id']).get_result()\n",
    "    if status['status'] == 'Available':\n",
    "        classes = classify(file_name)\n",
    "    return classes\n"
   ]
  },
  {
   "cell_type": "code",
   "execution_count": 13,
   "metadata": {},
   "outputs": [
    {
     "data": {
      "text/plain": [
       "{\"I want to change is the address yes that's right yep very good yes thank you so much for help I appreciate it thanks have\": {'classes': [{'class_name': 'strong-signal-satisfaction',\n",
       "    'confidence': 0.9685539673691262},\n",
       "   {'class_name': 'request-change-info', 'confidence': 0.010653383436728113},\n",
       "   {'class_name': 'standard-conversation', 'confidence': 0.005790497446887356},\n",
       "   {'class_name': 'social-cue-exit', 'confidence': 0.0031473438350874535},\n",
       "   {'class_name': 'social-cue-uncomfortable',\n",
       "    'confidence': 0.002757244963667647},\n",
       "   {'class_name': 'request-disconnect', 'confidence': 0.0021024218318898076},\n",
       "   {'class_name': 'request-strong-signal-manager-request',\n",
       "    'confidence': 0.0015492105335045386},\n",
       "   {'class_name': 'chit-chat', 'confidence': 0.0015106231806377968},\n",
       "   {'class_name': 'strong-signal-joy', 'confidence': 0.0013536963149994724},\n",
       "   {'class_name': 'strong-signal-miscommunication',\n",
       "    'confidence': 0.0013244315235032362}],\n",
       "  'classifier_id': '0e6935x475-nlc-1979',\n",
       "  'text': \"I want to change is the address yes that's right yep very good yes thank you so much for help I appreciate it thanks have\",\n",
       "  'top_class': 'strong-signal-satisfaction',\n",
       "  'url': 'https://gateway.watsonplatform.net/natural-language-classifier/api/v1/classifiers/0e6935x475-nlc-1979'},\n",
       " 'a good day bye bye ': {'classes': [{'class_name': 'standard-conversation',\n",
       "    'confidence': 0.9787642834553335},\n",
       "   {'class_name': 'social-cue-uncomfortable',\n",
       "    'confidence': 0.003680995558920119},\n",
       "   {'class_name': 'strong-signal-joy', 'confidence': 0.003549544564902385},\n",
       "   {'class_name': 'chit-chat', 'confidence': 0.0030324345324917873},\n",
       "   {'class_name': 'request-change-info', 'confidence': 0.0025659130733526477},\n",
       "   {'class_name': 'social-cue-exit', 'confidence': 0.0019401346418450815},\n",
       "   {'class_name': 'strong-signal-satisfaction',\n",
       "    'confidence': 0.0019224254847126554},\n",
       "   {'class_name': 'request-strong-signal-manager-request',\n",
       "    'confidence': 0.0014076543537789887},\n",
       "   {'class_name': 'request-disconnect', 'confidence': 0.001183395090729166},\n",
       "   {'class_name': 'strong-signal-anger', 'confidence': 0.0010184843326396162}],\n",
       "  'classifier_id': '0e6935x475-nlc-1979',\n",
       "  'text': 'a good day bye bye ',\n",
       "  'top_class': 'standard-conversation',\n",
       "  'url': 'https://gateway.watsonplatform.net/natural-language-classifier/api/v1/classifiers/0e6935x475-nlc-1979'},\n",
       " \"good morning can you give me some help I'd like to change my address please my name is Ryan Smith I am from Sacramento California\": {'classes': [{'class_name': 'standard-conversation',\n",
       "    'confidence': 0.8190730640516967},\n",
       "   {'class_name': 'request-change-info', 'confidence': 0.13493408722903213},\n",
       "   {'class_name': 'request-strong-signal-manager-request',\n",
       "    'confidence': 0.01305538632924082},\n",
       "   {'class_name': 'chit-chat', 'confidence': 0.005445832009970819},\n",
       "   {'class_name': 'request-disconnect', 'confidence': 0.005090442325700976},\n",
       "   {'class_name': 'social-cue-uncomfortable',\n",
       "    'confidence': 0.00488317161461857},\n",
       "   {'class_name': 'strong-signal-anger', 'confidence': 0.00427616558812005},\n",
       "   {'class_name': 'strong-signal-miscommunication',\n",
       "    'confidence': 0.0036429681828743284},\n",
       "   {'class_name': 'social-cue-exit', 'confidence': 0.0034627983853102572},\n",
       "   {'class_name': 'strong-signal-joy', 'confidence': 0.0033479481288530206}],\n",
       "  'classifier_id': '0e6935x475-nlc-1979',\n",
       "  'text': \"good morning can you give me some help I'd like to change my address please my name is Ryan Smith I am from Sacramento California\",\n",
       "  'top_class': 'standard-conversation',\n",
       "  'url': 'https://gateway.watsonplatform.net/natural-language-classifier/api/v1/classifiers/0e6935x475-nlc-1979'},\n",
       " \"street my new address is five six seven pine street yes and the zip is nine eight zero two one zero yep that's right now\": {'classes': [{'class_name': 'standard-conversation',\n",
       "    'confidence': 0.943849206225057},\n",
       "   {'class_name': 'request-change-info', 'confidence': 0.01885355002039091},\n",
       "   {'class_name': 'strong-signal-satisfaction',\n",
       "    'confidence': 0.009562729611438328},\n",
       "   {'class_name': 'chit-chat', 'confidence': 0.006729646572036192},\n",
       "   {'class_name': 'request-strong-signal-manager-request',\n",
       "    'confidence': 0.003706952122464331},\n",
       "   {'class_name': 'social-cue-exit', 'confidence': 0.0036517815795235205},\n",
       "   {'class_name': 'social-cue-uncomfortable',\n",
       "    'confidence': 0.002884915225403272},\n",
       "   {'class_name': 'strong-signal-joy', 'confidence': 0.0028058225320204857},\n",
       "   {'class_name': 'strong-signal-anger', 'confidence': 0.0027484327098139874},\n",
       "   {'class_name': 'strong-signal-miscommunication',\n",
       "    'confidence': 0.0026533165278810537}],\n",
       "  'classifier_id': '0e6935x475-nlc-1979',\n",
       "  'text': \"street my new address is five six seven pine street yes and the zip is nine eight zero two one zero yep that's right now\",\n",
       "  'top_class': 'standard-conversation',\n",
       "  'url': 'https://gateway.watsonplatform.net/natural-language-classifier/api/v1/classifiers/0e6935x475-nlc-1979'},\n",
       " \"that's right my phone number is five five five one two one two yes that's me my old address is number one two three oak\": {'classes': [{'class_name': 'standard-conversation',\n",
       "    'confidence': 0.8240466104835487},\n",
       "   {'class_name': 'request-change-info', 'confidence': 0.09982652537425757},\n",
       "   {'class_name': 'strong-signal-satisfaction',\n",
       "    'confidence': 0.020699231782594397},\n",
       "   {'class_name': 'request-strong-signal-manager-request',\n",
       "    'confidence': 0.013003531070830649},\n",
       "   {'class_name': 'chit-chat', 'confidence': 0.007734064328041797},\n",
       "   {'class_name': 'social-cue-uncomfortable',\n",
       "    'confidence': 0.006706048683550985},\n",
       "   {'class_name': 'request-disconnect', 'confidence': 0.0066185934304614025},\n",
       "   {'class_name': 'strong-signal-anger', 'confidence': 0.006430552520928766},\n",
       "   {'class_name': 'strong-signal-miscommunication',\n",
       "    'confidence': 0.00576995536202083},\n",
       "   {'class_name': 'strong-signal-joy', 'confidence': 0.005081606409329932}],\n",
       "  'classifier_id': '0e6935x475-nlc-1979',\n",
       "  'text': \"that's right my phone number is five five five one two one two yes that's me my old address is number one two three oak\",\n",
       "  'top_class': 'standard-conversation',\n",
       "  'url': 'https://gateway.watsonplatform.net/natural-language-classifier/api/v1/classifiers/0e6935x475-nlc-1979'},\n",
       " \"the phone number stays the same that's right I would like to keep all the options of said no other changes the only thing that\": {'classes': [{'class_name': 'request-change-info',\n",
       "    'confidence': 0.9616106194379385},\n",
       "   {'class_name': 'strong-signal-miscommunication',\n",
       "    'confidence': 0.017118158944099918},\n",
       "   {'class_name': 'social-cue-exit', 'confidence': 0.0044407997369067705},\n",
       "   {'class_name': 'social-cue-uncomfortable',\n",
       "    'confidence': 0.003286759602976575},\n",
       "   {'class_name': 'strong-signal-satisfaction',\n",
       "    'confidence': 0.00314596739737148},\n",
       "   {'class_name': 'standard-conversation',\n",
       "    'confidence': 0.0027244780829760633},\n",
       "   {'class_name': 'request-disconnect', 'confidence': 0.0023107875378972067},\n",
       "   {'class_name': 'request-strong-signal-manager-request',\n",
       "    'confidence': 0.0015436627000883765},\n",
       "   {'class_name': 'chit-chat', 'confidence': 0.0013917534635866792},\n",
       "   {'class_name': 'strong-signal-anger', 'confidence': 0.0012547933582217295}],\n",
       "  'classifier_id': '0e6935x475-nlc-1979',\n",
       "  'text': \"the phone number stays the same that's right I would like to keep all the options of said no other changes the only thing that\",\n",
       "  'top_class': 'request-change-info',\n",
       "  'url': 'https://gateway.watsonplatform.net/natural-language-classifier/api/v1/classifiers/0e6935x475-nlc-1979'}}"
      ]
     },
     "execution_count": 13,
     "metadata": {},
     "output_type": "execute_result"
    }
   ],
   "source": [
    "file_list = ['sample1-addresschange-positive.ogg',\n",
    "             'sample2-address-negative.ogg',\n",
    "             'sample3-shirt-return-weather-chitchat.ogg',\n",
    "             'sample4-angryblender-sportschitchat-recovery.ogg',\n",
    "             'sample5-calibration-toneandcontext.ogg',\n",
    "             'jfk_1961_0525_speech_to_put_man_on_moon.ogg',\n",
    "             'May 1 1969 Fred Rogers testifies before the Senate Subcommittee on Communications.ogg'\n",
    "            ]\n",
    "\n",
    "\n",
    "classify_transcript(file_list[0])"
   ]
  },
  {
   "cell_type": "code",
   "execution_count": 10,
   "metadata": {},
   "outputs": [
    {
     "name": "stdout",
     "output_type": "stream",
     "text": [
      "\n",
      "\n",
      "processing file:  sample1-addresschange-positive.ogg\n"
     ]
    },
    {
     "ename": "TypeError",
     "evalue": "'DetailedResponse' object is not subscriptable",
     "output_type": "error",
     "traceback": [
      "\u001b[0;31m---------------------------------------------------------------------------\u001b[0m",
      "\u001b[0;31mTypeError\u001b[0m                                 Traceback (most recent call last)",
      "\u001b[0;32m<ipython-input-10-f646b43b0f8b>\u001b[0m in \u001b[0;36m<module>\u001b[0;34m()\u001b[0m\n\u001b[1;32m      1\u001b[0m \u001b[0;32mfor\u001b[0m \u001b[0mfilename\u001b[0m \u001b[0;32min\u001b[0m \u001b[0mfile_list\u001b[0m\u001b[0;34m:\u001b[0m\u001b[0;34m\u001b[0m\u001b[0m\n\u001b[1;32m      2\u001b[0m     \u001b[0mprint\u001b[0m\u001b[0;34m(\u001b[0m\u001b[0;34m\"\\n\\nprocessing file: \"\u001b[0m\u001b[0;34m,\u001b[0m \u001b[0mfilename\u001b[0m\u001b[0;34m)\u001b[0m\u001b[0;34m\u001b[0m\u001b[0m\n\u001b[0;32m----> 3\u001b[0;31m     \u001b[0manalysis\u001b[0m \u001b[0;34m=\u001b[0m \u001b[0mclassify_transcript\u001b[0m\u001b[0;34m(\u001b[0m\u001b[0mfilename\u001b[0m\u001b[0;34m)\u001b[0m\u001b[0;34m\u001b[0m\u001b[0m\n\u001b[0m\u001b[1;32m      4\u001b[0m     \u001b[0mprint\u001b[0m\u001b[0;34m(\u001b[0m\u001b[0manalysis\u001b[0m\u001b[0;34m)\u001b[0m\u001b[0;34m\u001b[0m\u001b[0m\n",
      "\u001b[0;32m<ipython-input-8-885a9d63de88>\u001b[0m in \u001b[0;36mclassify_transcript\u001b[0;34m(file_name)\u001b[0m\n\u001b[1;32m     34\u001b[0m \u001b[0;32mdef\u001b[0m \u001b[0mclassify_transcript\u001b[0m\u001b[0;34m(\u001b[0m\u001b[0mfile_name\u001b[0m\u001b[0;34m)\u001b[0m\u001b[0;34m:\u001b[0m\u001b[0;34m\u001b[0m\u001b[0m\n\u001b[1;32m     35\u001b[0m     \u001b[0mstatus\u001b[0m \u001b[0;34m=\u001b[0m \u001b[0mnatural_language_classifier\u001b[0m\u001b[0;34m.\u001b[0m\u001b[0mget_classifier\u001b[0m\u001b[0;34m(\u001b[0m\u001b[0mcredentials_nlc\u001b[0m\u001b[0;34m[\u001b[0m\u001b[0;34m'classifier_id'\u001b[0m\u001b[0;34m]\u001b[0m\u001b[0;34m)\u001b[0m\u001b[0;34m\u001b[0m\u001b[0m\n\u001b[0;32m---> 36\u001b[0;31m     \u001b[0;32mif\u001b[0m \u001b[0mstatus\u001b[0m\u001b[0;34m[\u001b[0m\u001b[0;34m'status'\u001b[0m\u001b[0;34m]\u001b[0m \u001b[0;34m==\u001b[0m \u001b[0;34m'Available'\u001b[0m\u001b[0;34m:\u001b[0m\u001b[0;34m\u001b[0m\u001b[0m\n\u001b[0m\u001b[1;32m     37\u001b[0m         \u001b[0mclasses\u001b[0m \u001b[0;34m=\u001b[0m \u001b[0mclassify\u001b[0m\u001b[0;34m(\u001b[0m\u001b[0mfile_name\u001b[0m\u001b[0;34m)\u001b[0m\u001b[0;34m\u001b[0m\u001b[0m\n\u001b[1;32m     38\u001b[0m     \u001b[0;32mreturn\u001b[0m \u001b[0mclasses\u001b[0m\u001b[0;34m\u001b[0m\u001b[0m\n",
      "\u001b[0;31mTypeError\u001b[0m: 'DetailedResponse' object is not subscriptable"
     ]
    }
   ],
   "source": [
    "for filename in file_list:\n",
    "    print(\"\\n\\nprocessing file: \", filename)\n",
    "    analysis = classify_transcript(filename)\n",
    "    print(analysis)"
   ]
  },
  {
   "cell_type": "code",
   "execution_count": null,
   "metadata": {},
   "outputs": [],
   "source": []
  }
 ],
 "metadata": {
  "kernelspec": {
   "display_name": "Python 3.5",
   "language": "python",
   "name": "python3"
  },
  "language_info": {
   "codemirror_mode": {
    "name": "ipython",
    "version": 3
   },
   "file_extension": ".py",
   "mimetype": "text/x-python",
   "name": "python",
   "nbconvert_exporter": "python",
   "pygments_lexer": "ipython3",
   "version": "3.5.5"
  }
 },
 "nbformat": 4,
 "nbformat_minor": 1
}
